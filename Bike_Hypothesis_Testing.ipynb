{
  "nbformat": 4,
  "nbformat_minor": 0,
  "metadata": {
    "colab": {
      "provenance": []
    },
    "kernelspec": {
      "name": "python3",
      "display_name": "Python 3"
    },
    "language_info": {
      "name": "python"
    }
  },
  "cells": [
    {
      "cell_type": "markdown",
      "source": [
        "# **Read Me**\n",
        "\n",
        "This is a hypothesis testing project, demonstrating my understanding of statistical tests. It used open-source data for rentable bikes in London."
      ],
      "metadata": {
        "id": "3LmRThice5Bg"
      }
    },
    {
      "cell_type": "code",
      "execution_count": null,
      "metadata": {
        "id": "RdDYNoYhXdIJ",
        "colab": {
          "base_uri": "https://localhost:8080/"
        },
        "outputId": "087d9e7f-ba75-4dc6-8ec1-4c5adb5ed470"
      },
      "outputs": [
        {
          "output_type": "stream",
          "name": "stdout",
          "text": [
            "Mounted at /content/drive\n"
          ]
        }
      ],
      "source": [
        "from google.colab import drive\n",
        "drive.mount('/content/drive')"
      ]
    },
    {
      "cell_type": "code",
      "source": [
        "!pip install scipy"
      ],
      "metadata": {
        "colab": {
          "base_uri": "https://localhost:8080/"
        },
        "id": "fTXIoBQdj3pa",
        "outputId": "6c87c8b5-bf1f-4f8d-daac-4544ae4ea1d7"
      },
      "execution_count": null,
      "outputs": [
        {
          "output_type": "stream",
          "name": "stdout",
          "text": [
            "Requirement already satisfied: scipy in /usr/local/lib/python3.10/dist-packages (1.11.4)\n",
            "Requirement already satisfied: numpy<1.28.0,>=1.21.6 in /usr/local/lib/python3.10/dist-packages (from scipy) (1.25.2)\n"
          ]
        }
      ]
    },
    {
      "cell_type": "code",
      "source": [
        "import statistics\n",
        "import numpy\n",
        "import matplotlib\n",
        "import seaborn\n",
        "import pandas\n",
        "from scipy.stats import shapiro, ttest_ind\n",
        "pandas.options.mode.chained_assignment = None  # default='warn'"
      ],
      "metadata": {
        "id": "9_pZ0K3RXfga"
      },
      "execution_count": null,
      "outputs": []
    },
    {
      "cell_type": "code",
      "source": [
        "# set-up spark (NB if Apache amend versions on download site we will need to amend path in wget command)\n",
        "!ls\n",
        "!rm -f spark-3.4.[01]-bin-hadoop3.tgz*\n",
        "!rm -rf spark-3.4.[01]-bin-hadoop3\n",
        "!apt-get install openjdk-8-jdk-headless -qq > /dev/null\n",
        "!wget https://downloads.apache.org/spark/spark-3.5.1/spark-3.5.1-bin-hadoop3.tgz\n",
        "!tar -xf spark-3.5.1-bin-hadoop3.tgz\n",
        "!ls -alt"
      ],
      "metadata": {
        "colab": {
          "base_uri": "https://localhost:8080/"
        },
        "id": "qUaE8VSYklJW",
        "outputId": "42e6db74-849a-435a-ad7c-2ed9cfcfd8a0"
      },
      "execution_count": null,
      "outputs": [
        {
          "output_type": "stream",
          "name": "stdout",
          "text": [
            "\n",
            "Welcome to advanced top sites\n",
            "drive  sample_data\n",
            "--2024-05-23 20:20:59--  https://downloads.apache.org/spark/spark-3.5.1/spark-3.5.1-bin-hadoop3.tgz\n",
            "Resolving downloads.apache.org (downloads.apache.org)... 135.181.214.104, 88.99.208.237, 2a01:4f9:3a:2c57::2, ...\n",
            "Connecting to downloads.apache.org (downloads.apache.org)|135.181.214.104|:443... connected.\n",
            "HTTP request sent, awaiting response... 200 OK\n",
            "Length: 400446614 (382M) [application/x-gzip]\n",
            "Saving to: ‘spark-3.5.1-bin-hadoop3.tgz’\n",
            "\n",
            "spark-3.5.1-bin-had 100%[===================>] 381.90M  18.9MB/s    in 22s     \n",
            "\n",
            "2024-05-23 20:21:21 (17.7 MB/s) - ‘spark-3.5.1-bin-hadoop3.tgz’ saved [400446614/400446614]\n",
            "\n",
            "total 391092\n",
            "drwxr-xr-x  1 root root      4096 May 23 20:21 .\n",
            "drwx------  5 root root      4096 May 23 20:20 drive\n",
            "drwxr-xr-x  1 root root      4096 May 23 20:19 ..\n",
            "drwxr-xr-x  1 root root      4096 May 22 13:23 sample_data\n",
            "drwxr-xr-x  4 root root      4096 May 22 13:22 .config\n",
            "-rw-r--r--  1 root root 400446614 Feb 15 11:39 spark-3.5.1-bin-hadoop3.tgz\n",
            "drwxr-xr-x 13 1000 1000      4096 Feb 15 11:36 spark-3.5.1-bin-hadoop3\n"
          ]
        }
      ]
    },
    {
      "cell_type": "code",
      "source": [
        "!pip3 install findspark"
      ],
      "metadata": {
        "colab": {
          "base_uri": "https://localhost:8080/"
        },
        "id": "ANZYtsHekzFw",
        "outputId": "07a5ecc2-f140-4f2c-f99c-01826b253e50"
      },
      "execution_count": null,
      "outputs": [
        {
          "output_type": "stream",
          "name": "stdout",
          "text": [
            "Collecting findspark\n",
            "  Downloading findspark-2.0.1-py2.py3-none-any.whl (4.4 kB)\n",
            "Installing collected packages: findspark\n",
            "Successfully installed findspark-2.0.1\n"
          ]
        }
      ]
    },
    {
      "cell_type": "code",
      "source": [
        "!ls"
      ],
      "metadata": {
        "colab": {
          "base_uri": "https://localhost:8080/"
        },
        "id": "ih0aWa8_1V0v",
        "outputId": "4732612f-469e-4f5d-8449-4d4b229efccc"
      },
      "execution_count": null,
      "outputs": [
        {
          "output_type": "stream",
          "name": "stdout",
          "text": [
            "drive  sample_data  spark-3.5.1-bin-hadoop3  spark-3.5.1-bin-hadoop3.tgz\n"
          ]
        }
      ]
    },
    {
      "cell_type": "code",
      "source": [
        "# init spark (ensure SPARK_HOME set to same version as we download earlier)\n",
        "import os\n",
        "os.environ[\"JAVA_HOME\"] = \"/usr/lib/jvm/java-8-openjdk-amd64\"\n",
        "os.environ[\"SPARK_HOME\"] = \"/content/spark-3.5.1-bin-hadoop3\"\n",
        "import findspark\n",
        "findspark.init()\n",
        "from pyspark import SparkConf, SparkContext\n",
        "# the next line gives us 'local' mode. try 'local[2]' to use 2 cores or 'master:NNNN' to run on Spark standalone cluster at port NNNN\n",
        "spark_conf = SparkConf().setMaster('local[2]').setAppName('MyApp')\n",
        "sc = SparkContext.getOrCreate();\n",
        "# see what we have by examining the Spark User Interface\n",
        "from pyspark.sql import *\n",
        "from pyspark.sql.functions import *\n",
        "# \"SparkSession\" and \"sc\" are are key handles in to Spark API\n",
        "##SparkSession.builder.getOrCreate()\n",
        "spark = SparkSession.builder.appName(\"bikes\").getOrCreate()"
      ],
      "metadata": {
        "id": "2SK9VMRvk28I"
      },
      "execution_count": null,
      "outputs": []
    },
    {
      "cell_type": "code",
      "source": [
        "from pyspark.sql.functions import mean, stddev, min, max, count"
      ],
      "metadata": {
        "id": "FIXUyJR-Ci2v"
      },
      "execution_count": null,
      "outputs": []
    },
    {
      "cell_type": "markdown",
      "source": [
        "Read in all data"
      ],
      "metadata": {
        "id": "YUZjDOxlyv4U"
      }
    },
    {
      "cell_type": "code",
      "source": [
        "j1_df = (spark.read.format(\"csv\")\n",
        "         .option(\"header\", \"true\")\n",
        "         .option(\"inferSchema\", \"true\")\n",
        "         .load('/content/drive/MyDrive/Colab Data/1. Journey*csv'))\n",
        "\n",
        "j2_df = (spark.read.format(\"csv\")\n",
        "         .option(\"header\", \"true\")\n",
        "         .option(\"inferSchema\", \"true\")\n",
        "         .load('/content/drive/MyDrive/Colab Data/2. Journey*csv'))\n",
        "\n",
        "j3_df = (spark.read.format(\"csv\")\n",
        "         .option(\"header\", \"true\")\n",
        "         .option(\"inferSchema\", \"true\")\n",
        "         .load('/content/drive/MyDrive/Colab Data/3. Journey*csv'))\n",
        "\n",
        "j4_df = (spark.read.format(\"csv\")\n",
        "         .option(\"header\", \"true\")\n",
        "         .option(\"inferSchema\", \"true\")\n",
        "         .load('/content/drive/MyDrive/Colab Data/4. Journey*csv'))\n",
        "\n",
        "j5_df = (spark.read.format(\"csv\")\n",
        "         .option(\"header\", \"true\")\n",
        "         .option(\"inferSchema\", \"true\")\n",
        "         .load('/content/drive/MyDrive/Colab Data/5. Journey*csv'))\n",
        "\n",
        "j6_df = (spark.read.format(\"csv\")\n",
        "         .option(\"header\", \"true\")\n",
        "         .option(\"inferSchema\", \"true\")\n",
        "         .load('/content/drive/MyDrive/Colab Data/6. Journey*csv'))\n",
        "\n",
        "j7_df = (spark.read.format(\"csv\")\n",
        "         .option(\"header\", \"true\")\n",
        "         .option(\"inferSchema\", \"true\")\n",
        "         .load('/content/drive/MyDrive/Colab Data/7. Journey*csv'))\n",
        "\n",
        "j8a_df = (spark.read.format(\"csv\")\n",
        "         .option(\"header\", \"true\")\n",
        "         .option(\"inferSchema\", \"true\")\n",
        "         .load('/content/drive/MyDrive/Colab Data/8a Journey*csv'))\n",
        "\n",
        "j8b_df = (spark.read.format(\"csv\")\n",
        "         .option(\"header\", \"true\")\n",
        "         .option(\"inferSchema\", \"true\")\n",
        "         .load('/content/drive/MyDrive/Colab Data/8b Journey*csv'))\n",
        "\n",
        "j9a_df = (spark.read.format(\"csv\")\n",
        "         .option(\"header\", \"true\")\n",
        "         .option(\"inferSchema\", \"true\")\n",
        "         .load('/content/drive/MyDrive/Colab Data/9a Journey*csv'))\n",
        "\n",
        "j9b_df = (spark.read.format(\"csv\")\n",
        "         .option(\"header\", \"true\")\n",
        "         .option(\"inferSchema\", \"true\")\n",
        "         .load('/content/drive/MyDrive/Colab Data/9b Journey*csv'))\n",
        "\n",
        "j10a_df = (spark.read.format(\"csv\")\n",
        "         .option(\"header\", \"true\")\n",
        "         .option(\"inferSchema\", \"true\")\n",
        "         .load('/content/drive/MyDrive/Colab Data/10a. Journey*csv'))\n",
        "\n",
        "j10b_df = (spark.read.format(\"csv\")\n",
        "         .option(\"header\", \"true\")\n",
        "         .option(\"inferSchema\", \"true\")\n",
        "         .load('/content/drive/MyDrive/Colab Data/10b. Journey*csv'))\n",
        "\n",
        "j11a_df = (spark.read.format(\"csv\")\n",
        "         .option(\"header\", \"true\")\n",
        "         .option(\"inferSchema\", \"true\")\n",
        "         .load('/content/drive/MyDrive/Colab Data/11a. Journey*csv'))\n",
        "\n",
        "j11b_df = (spark.read.format(\"csv\")\n",
        "         .option(\"header\", \"true\")\n",
        "         .option(\"inferSchema\", \"true\")\n",
        "         .load('/content/drive/MyDrive/Colab Data/11b. Journey*csv'))\n",
        "\n",
        "j12a_df = (spark.read.format(\"csv\")\n",
        "         .option(\"header\", \"true\")\n",
        "         .option(\"inferSchema\", \"true\")\n",
        "         .load('/content/drive/MyDrive/Colab Data/12a. Journey*csv'))\n",
        "\n",
        "j12b_df = (spark.read.format(\"csv\")\n",
        "         .option(\"header\", \"true\")\n",
        "         .option(\"inferSchema\", \"true\")\n",
        "         .load('/content/drive/MyDrive/Colab Data/12b. Journey*csv'))\n",
        "\n",
        "j13a_df = (spark.read.format(\"csv\")\n",
        "         .option(\"header\", \"true\")\n",
        "         .option(\"inferSchema\", \"true\")\n",
        "         .load('/content/drive/MyDrive/Colab Data/13a. Journey*csv'))\n",
        "\n",
        "j13b_df = (spark.read.format(\"csv\")\n",
        "         .option(\"header\", \"true\")\n",
        "         .option(\"inferSchema\", \"true\")\n",
        "         .load('/content/drive/MyDrive/Colab Data/13b. Journey*csv'))\n",
        "\n",
        "j14_df = (spark.read.format(\"csv\")\n",
        "         .option(\"header\", \"true\")\n",
        "         .option(\"inferSchema\", \"true\")\n",
        "         .load('/content/drive/MyDrive/Colab Data/14. Journey*csv'))"
      ],
      "metadata": {
        "id": "M23x7B-rmoqM"
      },
      "execution_count": null,
      "outputs": []
    },
    {
      "cell_type": "markdown",
      "source": [
        "# **“Rides in 2014 starting from Baylis Road, Waterloo station were shorter compared to other stations.\"**"
      ],
      "metadata": {
        "id": "Ic-hy8NAZQwu"
      }
    },
    {
      "cell_type": "markdown",
      "source": [
        "H0: Rides in 2014 starting from Baylis Road, Waterloo station were not shorter compared to other stations.\n",
        "\n",
        "H1: Rides in 2014 starting from Baylis Road, Waterloo station were shorter compared to other stations.\n",
        "\n",
        "This Hypothesis is tested by a one-tailed Test."
      ],
      "metadata": {
        "id": "FhcWbxTOZcz-"
      }
    },
    {
      "cell_type": "markdown",
      "source": [
        "# **PLAN:**"
      ],
      "metadata": {
        "id": "XIrZmgPAkBhI"
      }
    },
    {
      "cell_type": "markdown",
      "source": [
        "External Factors: Consider external factors that might have influenced trip distance in 2014, such as road closures or special events.\n"
      ],
      "metadata": {
        "id": "AxbYiY-7i9ea"
      }
    },
    {
      "cell_type": "markdown",
      "source": [
        "take average for each month for baylis and ALL other stations\n",
        "\n",
        "do a T-test of them against eachother\n"
      ],
      "metadata": {
        "id": "p-cPjVVci_ED"
      }
    },
    {
      "cell_type": "markdown",
      "source": [
        "If the T test concludes that the times are not statistically significant, i could also always check if the rides from Baylis are shorter at certain times, such as a quarter of the year, or at the peak time of day.\n",
        "Do some outside reading about cycling in London"
      ],
      "metadata": {
        "id": "L0QKjUOWjNow"
      }
    },
    {
      "cell_type": "markdown",
      "source": [
        "But before doing any testing, i should do an EDA."
      ],
      "metadata": {
        "id": "viSdSWx9j7AH"
      }
    },
    {
      "cell_type": "markdown",
      "source": [
        "I need to merge all the datasets, and then split baylis road from the others"
      ],
      "metadata": {
        "id": "JI1gtwylSUoC"
      }
    },
    {
      "cell_type": "code",
      "source": [
        "j1_df.head()"
      ],
      "metadata": {
        "id": "TXE7n9p7kQ40",
        "colab": {
          "base_uri": "https://localhost:8080/"
        },
        "outputId": "f7327a32-6c80-46e9-dc7a-9da31509bd4f"
      },
      "execution_count": null,
      "outputs": [
        {
          "output_type": "execute_result",
          "data": {
            "text/plain": [
              "Row(Rental Id=29747123, Duration=1140, Bike Id=469, End Date='05/01/2014 15:54', EndStation Id=55, EndStation Name='Finsbury Circus, Liverpool Street', Start Date='05/01/2014 15:35', StartStation Id=295, StartStation Name='Swan Street, The Borough')"
            ]
          },
          "metadata": {},
          "execution_count": 10
        }
      ]
    },
    {
      "cell_type": "code",
      "source": [
        "j2_df.head()"
      ],
      "metadata": {
        "id": "Z1a65fhQVyWG",
        "colab": {
          "base_uri": "https://localhost:8080/"
        },
        "outputId": "9c1f8ac9-aeaf-4c12-b684-218c3e0a79e5"
      },
      "execution_count": null,
      "outputs": [
        {
          "output_type": "execute_result",
          "data": {
            "text/plain": [
              "Row(Rental Id=30286260, Duration=1260, Bike Id=12218, End Date='03/02/2014 23:24', EndStation Id=697, EndStation Name='Charlotte Terrace, Angel', Start Date='03/02/2014 23:03', StartStation Id=311, StartStation Name='Foley Street, Fitzrovia')"
            ]
          },
          "metadata": {},
          "execution_count": 11
        }
      ]
    },
    {
      "cell_type": "code",
      "source": [
        "j4_df.head()"
      ],
      "metadata": {
        "id": "c6B6b03rWggt",
        "colab": {
          "base_uri": "https://localhost:8080/"
        },
        "outputId": "c4a1349f-d6b5-43f2-df99-352571ca5022"
      },
      "execution_count": null,
      "outputs": [
        {
          "output_type": "execute_result",
          "data": {
            "text/plain": [
              "Row(Rental Id=31598682, Duration=540, Bike Id=982, End Date='01/04/2014 00:09', EndStation Id=544, EndStation Name='Percival Street, Finsbury', Start Date='01/04/2014 00:00', StartStation Id=217, StartStation Name='Wormwood Street, Liverpool Street', _c9=None, _c10=None, _c11=None)"
            ]
          },
          "metadata": {},
          "execution_count": 12
        }
      ]
    },
    {
      "cell_type": "code",
      "source": [
        "j6_df.head()"
      ],
      "metadata": {
        "id": "KTbYX8FDWk7-",
        "colab": {
          "base_uri": "https://localhost:8080/"
        },
        "outputId": "42a78bd6-9fe7-4dab-e999-ad7fc7ddd337"
      },
      "execution_count": null,
      "outputs": [
        {
          "output_type": "execute_result",
          "data": {
            "text/plain": [
              "Row(Rental Id=33253206, Duration=1140, Bike Id=11439, End Date='27/05/2014 00:59', EndStation Id=695, EndStation Name='Islington Green, Angel', Start Date='27/05/2014 00:40', StartStation Id=81, StartStation Name='Great Titchfield Street, Fitzrovia', _c9=None, _c10=None, _c11=None)"
            ]
          },
          "metadata": {},
          "execution_count": 13
        }
      ]
    },
    {
      "cell_type": "code",
      "source": [
        "j10b_df.head()"
      ],
      "metadata": {
        "id": "7DX4de79iYje",
        "colab": {
          "base_uri": "https://localhost:8080/"
        },
        "outputId": "13478b3e-1a06-42ed-8980-22aa06566296"
      },
      "execution_count": null,
      "outputs": [
        {
          "output_type": "execute_result",
          "data": {
            "text/plain": [
              "Row(Rental Id=37875851, Duration=120, Bike Id=3229, End Date='28/09/2014 00:02', EndStation Id=450, EndStation Name='Jubilee Street, Stepney', Start Date='28/09/2014 00:00', StartStation Id=443, StartStation Name='Philpot Street, Whitechapel', _c9=None, _c10=None, _c11=None)"
            ]
          },
          "metadata": {},
          "execution_count": 14
        }
      ]
    },
    {
      "cell_type": "code",
      "source": [
        "j13b_df.head()"
      ],
      "metadata": {
        "id": "ITRgbNf4iuQN",
        "colab": {
          "base_uri": "https://localhost:8080/"
        },
        "outputId": "6b27c3fd-f80c-48d4-d738-0dc3f7302b96"
      },
      "execution_count": null,
      "outputs": [
        {
          "output_type": "execute_result",
          "data": {
            "text/plain": [
              "Row(Rental Id=40154802, Duration=120, Bike Id=12760, End Date='22/12/2014 00:03', EndStation Id=450, EndStation Name='Jubilee Street, Stepney', Start Date='22/12/2014 00:01', StartStation Id=443, StartStation Name='Philpot Street, Whitechapel', _c9=None, _c10=None, _c11=None)"
            ]
          },
          "metadata": {},
          "execution_count": 15
        }
      ]
    },
    {
      "cell_type": "code",
      "source": [
        "colnames = j4_df.columns\n",
        "print(colnames)\n",
        "#Finding Column names"
      ],
      "metadata": {
        "id": "PcvbokZ8cilc",
        "colab": {
          "base_uri": "https://localhost:8080/"
        },
        "outputId": "13c253c2-32dd-47d7-edff-24aea21483b6"
      },
      "execution_count": null,
      "outputs": [
        {
          "output_type": "stream",
          "name": "stdout",
          "text": [
            "['Rental Id', 'Duration', 'Bike Id', 'End Date', 'EndStation Id', 'EndStation Name', 'Start Date', 'StartStation Id', 'StartStation Name', '_c9', '_c10', '_c11']\n"
          ]
        }
      ]
    },
    {
      "cell_type": "code",
      "source": [
        "#dropping the empty columns\n",
        "j4_df = j4_df.drop(j4_df._c9)\n",
        "j4_df = j4_df.drop(j4_df._c10)\n",
        "j4_df = j4_df.drop(j4_df._c11)"
      ],
      "metadata": {
        "id": "Ht8AvG52XMN6"
      },
      "execution_count": null,
      "outputs": []
    },
    {
      "cell_type": "code",
      "source": [
        "j6_df = j6_df.drop(j6_df._c9)\n",
        "j6_df = j6_df.drop(j6_df._c10)\n",
        "j6_df = j6_df.drop(j6_df._c11)"
      ],
      "metadata": {
        "id": "6evhe34micpG"
      },
      "execution_count": null,
      "outputs": []
    },
    {
      "cell_type": "code",
      "source": [
        "j10b_df = j10b_df.drop(j10b_df._c9)\n",
        "j10b_df = j10b_df.drop(j10b_df._c10)\n",
        "j10b_df = j10b_df.drop(j10b_df._c11)"
      ],
      "metadata": {
        "id": "LCtxCezxicgm"
      },
      "execution_count": null,
      "outputs": []
    },
    {
      "cell_type": "code",
      "source": [
        "j13b_df = j13b_df.drop(j13b_df._c9)\n",
        "j13b_df = j13b_df.drop(j13b_df._c10)\n",
        "j13b_df = j13b_df.drop(j13b_df._c11)"
      ],
      "metadata": {
        "id": "Cksq9em8ixhd"
      },
      "execution_count": null,
      "outputs": []
    },
    {
      "cell_type": "code",
      "source": [
        "allJourneys_df = j1_df"
      ],
      "metadata": {
        "id": "ZhwLXjm8Uci2"
      },
      "execution_count": null,
      "outputs": []
    },
    {
      "cell_type": "markdown",
      "source": [
        "Combine all Dataframes"
      ],
      "metadata": {
        "id": "wbe2htXqzECR"
      }
    },
    {
      "cell_type": "code",
      "source": [
        "allJourneys_df = allJourneys_df.union(j2_df)\n",
        "allJourneys_df = allJourneys_df.union(j3_df)\n",
        "allJourneys_df = allJourneys_df.union(j4_df)\n",
        "allJourneys_df = allJourneys_df.union(j5_df)\n",
        "allJourneys_df = allJourneys_df.union(j6_df)\n",
        "allJourneys_df = allJourneys_df.union(j7_df)\n",
        "allJourneys_df = allJourneys_df.union(j8a_df)\n",
        "allJourneys_df = allJourneys_df.union(j8b_df)\n",
        "allJourneys_df = allJourneys_df.union(j9a_df)\n",
        "allJourneys_df = allJourneys_df.union(j9b_df)\n",
        "allJourneys_df = allJourneys_df.union(j10a_df)\n",
        "allJourneys_df = allJourneys_df.union(j10b_df)\n",
        "allJourneys_df = allJourneys_df.union(j11a_df)\n",
        "allJourneys_df = allJourneys_df.union(j11b_df)\n",
        "allJourneys_df = allJourneys_df.union(j12a_df)\n",
        "allJourneys_df = allJourneys_df.union(j12b_df)\n",
        "allJourneys_df = allJourneys_df.union(j13a_df)\n",
        "allJourneys_df = allJourneys_df.union(j13b_df)\n",
        "allJourneys_df = allJourneys_df.union(j14_df)"
      ],
      "metadata": {
        "id": "7nVeazDVUiHn"
      },
      "execution_count": null,
      "outputs": []
    },
    {
      "cell_type": "code",
      "source": [
        "allJourneys_df.count()\n",
        "#35992538"
      ],
      "metadata": {
        "id": "OepvcyVUd42b",
        "colab": {
          "base_uri": "https://localhost:8080/"
        },
        "outputId": "e2ede8e8-0301-4e4d-effe-8e4034491ccc"
      },
      "execution_count": null,
      "outputs": [
        {
          "output_type": "execute_result",
          "data": {
            "text/plain": [
              "11481596"
            ]
          },
          "metadata": {},
          "execution_count": 23
        }
      ]
    },
    {
      "cell_type": "code",
      "source": [
        "#remove rows with null values\n",
        "allJourneys_df.dropna()"
      ],
      "metadata": {
        "id": "2LQnEW_njL39",
        "colab": {
          "base_uri": "https://localhost:8080/"
        },
        "outputId": "a7a45709-8809-43d6-d654-15c6139ea081"
      },
      "execution_count": null,
      "outputs": [
        {
          "output_type": "execute_result",
          "data": {
            "text/plain": [
              "DataFrame[Rental Id: int, Duration: int, Bike Id: int, End Date: string, EndStation Id: int, EndStation Name: string, Start Date: string, StartStation Id: int, StartStation Name: string]"
            ]
          },
          "metadata": {},
          "execution_count": 24
        }
      ]
    },
    {
      "cell_type": "code",
      "source": [
        "cols_to_drop = [\"Bike Id\", \"Rental Id\", \"End Date\", \"EndStation Id\", \"EndStation Name\"]\n",
        "smallJourneyFrame = allJourneys_df.drop(*cols_to_drop)"
      ],
      "metadata": {
        "id": "kIYAcFFwjX_M"
      },
      "execution_count": null,
      "outputs": []
    },
    {
      "cell_type": "code",
      "source": [
        "smallJourneyFrame.describe()\n"
      ],
      "metadata": {
        "id": "alZsHW9zzXzN",
        "colab": {
          "base_uri": "https://localhost:8080/"
        },
        "outputId": "7865a2c9-2a25-4ad6-ef74-a0edc5cbf5fc"
      },
      "execution_count": null,
      "outputs": [
        {
          "output_type": "execute_result",
          "data": {
            "text/plain": [
              "DataFrame[summary: string, Duration: string, Start Date: string, StartStation Id: string, StartStation Name: string]"
            ]
          },
          "metadata": {},
          "execution_count": 26
        }
      ]
    },
    {
      "cell_type": "code",
      "source": [
        "column_stats = smallJourneyFrame.select(\n",
        "    mean(\"Duration\").alias(\"mean\"),\n",
        "    stddev(\"Duration\").alias(\"stddev\"),\n",
        "    min(\"Duration\").alias(\"min\"),\n",
        "    max(\"Duration\").alias(\"max\"),\n",
        "    count(\"Duration\").alias(\"count\")\n",
        ")\n",
        "column_stats.head()\n"
      ],
      "metadata": {
        "id": "K3yfcgf7_7Y1",
        "colab": {
          "base_uri": "https://localhost:8080/"
        },
        "outputId": "188da880-0561-493e-db09-73d6e349f297"
      },
      "execution_count": null,
      "outputs": [
        {
          "output_type": "execute_result",
          "data": {
            "text/plain": [
              "Row(mean=1466.081447242822, stddev=12946.838147598999, min=-3360, max=2596560, count=10242483)"
            ]
          },
          "metadata": {},
          "execution_count": 27
        }
      ]
    },
    {
      "cell_type": "code",
      "source": [
        "filteredJourneys = smallJourneyFrame.filter(col(\"Duration\") > 0)\n",
        "#REMOVE ANY DURATIONS THAT ARE <0"
      ],
      "metadata": {
        "id": "uEB1t3UbDWap"
      },
      "execution_count": null,
      "outputs": []
    },
    {
      "cell_type": "code",
      "source": [
        "column_stats = filteredJourneys.select(\n",
        "    mean(\"Duration\").alias(\"mean\"),\n",
        "    stddev(\"Duration\").alias(\"stddev\"),\n",
        "    min(\"Duration\").alias(\"min\"),\n",
        "    max(\"Duration\").alias(\"max\"),\n",
        "    count(\"Duration\").alias(\"count\")\n",
        ")\n",
        "column_stats.head()\n"
      ],
      "metadata": {
        "colab": {
          "base_uri": "https://localhost:8080/"
        },
        "id": "c2DSPQs1Ddze",
        "outputId": "8e0cc914-b22b-42c5-e2dc-6f019873cb2a"
      },
      "execution_count": null,
      "outputs": [
        {
          "output_type": "execute_result",
          "data": {
            "text/plain": [
              "Row(mean=1470.7762845004315, stddev=12967.158682798066, min=60, max=2596560, count=10209981)"
            ]
          },
          "metadata": {},
          "execution_count": 29
        }
      ]
    },
    {
      "cell_type": "markdown",
      "source": [
        "Now to remove any values below Q1 - 1.5IQR or above Q3 + 1.5IQR"
      ],
      "metadata": {
        "id": "AjrDv0NnHjwH"
      }
    },
    {
      "cell_type": "code",
      "source": [
        "quantiles = filteredJourneys.approxQuantile(\"Duration\", [0.25, 0.75], 0.01)\n",
        "q1, q3 = quantiles[0], quantiles[1]\n",
        "IQR = q3 - q1\n",
        "upper_bound = q3 + 1.5 * IQR\n",
        "lower_bound = q1 - 1.5 * IQR\n",
        "IQRFilteredJourneys = filteredJourneys.filter((col(\"Duration\") >= lower_bound) & (col(\"Duration\") <= upper_bound))"
      ],
      "metadata": {
        "id": "wJoF9NKjHCX3"
      },
      "execution_count": null,
      "outputs": []
    },
    {
      "cell_type": "code",
      "source": [
        "column_stats = IQRFilteredJourneys.select(\n",
        "    mean(\"Duration\").alias(\"mean\"),\n",
        "    stddev(\"Duration\").alias(\"stddev\"),\n",
        "    min(\"Duration\").alias(\"min\"),\n",
        "    max(\"Duration\").alias(\"max\"),\n",
        "    count(\"Duration\").alias(\"count\")\n",
        ")\n",
        "column_stats.head()\n"
      ],
      "metadata": {
        "colab": {
          "base_uri": "https://localhost:8080/"
        },
        "id": "H1YBTJKTJ57B",
        "outputId": "735d00d5-1d17-4a48-873f-17d7eb534f40"
      },
      "execution_count": null,
      "outputs": [
        {
          "output_type": "execute_result",
          "data": {
            "text/plain": [
              "Row(mean=879.8435636781282, stddev=519.9468705702725, min=60, max=2580, count=9537427)"
            ]
          },
          "metadata": {},
          "execution_count": 31
        }
      ]
    },
    {
      "cell_type": "code",
      "source": [
        "10209981 - 9537427"
      ],
      "metadata": {
        "colab": {
          "base_uri": "https://localhost:8080/"
        },
        "id": "OYlcfkC8Khg5",
        "outputId": "42a61ec9-8c01-4be7-8b23-a637bdf55a60"
      },
      "execution_count": null,
      "outputs": [
        {
          "output_type": "execute_result",
          "data": {
            "text/plain": [
              "672554"
            ]
          },
          "metadata": {},
          "execution_count": 32
        }
      ]
    },
    {
      "cell_type": "code",
      "source": [
        "IQRFilteredJourneys.head(5)"
      ],
      "metadata": {
        "colab": {
          "base_uri": "https://localhost:8080/"
        },
        "id": "fBKFKOxJOwdj",
        "outputId": "9b8112d7-15da-451b-8c8f-4a6cec4bcf8a"
      },
      "execution_count": null,
      "outputs": [
        {
          "output_type": "execute_result",
          "data": {
            "text/plain": [
              "[Row(Duration=1140, Start Date='05/01/2014 15:35', StartStation Id=295, StartStation Name='Swan Street, The Borough'),\n",
              " Row(Duration=1560, Start Date='06/01/2014 23:04', StartStation Id=311, StartStation Name='Foley Street, Fitzrovia'),\n",
              " Row(Duration=1200, Start Date='09/01/2014 23:05', StartStation Id=81, StartStation Name='Great Titchfield Street, Fitzrovia'),\n",
              " Row(Duration=1380, Start Date='17/01/2014 13:43', StartStation Id=311, StartStation Name='Foley Street, Fitzrovia'),\n",
              " Row(Duration=1320, Start Date='18/01/2014 20:44', StartStation Id=225, StartStation Name='Notting Hill Gate Station, Notting Hill')]"
            ]
          },
          "metadata": {},
          "execution_count": 33
        }
      ]
    },
    {
      "cell_type": "code",
      "source": [
        "IQRFilteredJourneys = IQRFilteredJourneys.withColumn(\"justDate\", split(col(\"Start Date\"), \" \").getItem(0).cast(\"string\"))\n",
        "IQRFilteredJourneys = IQRFilteredJourneys.withColumn(\"StartMonth\", split(col(\"Start Date\"), \"/\").getItem(1).cast(\"string\"))"
      ],
      "metadata": {
        "id": "rWRU2m7DQeD-"
      },
      "execution_count": null,
      "outputs": []
    },
    {
      "cell_type": "code",
      "source": [
        "BaylisJourneys = IQRFilteredJourneys.filter(col(\"StartStation Name\").like(\"%\" + \"Baylis\" + \"%\"))\n",
        "BaylisJourneys.head()"
      ],
      "metadata": {
        "colab": {
          "base_uri": "https://localhost:8080/"
        },
        "id": "oF6u8g6rTdeI",
        "outputId": "fee229ad-9775-4035-c47b-962a9375b55c"
      },
      "execution_count": null,
      "outputs": [
        {
          "output_type": "execute_result",
          "data": {
            "text/plain": [
              "Row(Duration=660, Start Date='24/01/2014 18:04', StartStation Id=272, StartStation Name='Baylis Road, Waterloo', justDate='24/01/2014', StartMonth='01')"
            ]
          },
          "metadata": {},
          "execution_count": 35
        }
      ]
    },
    {
      "cell_type": "markdown",
      "source": [
        "# Baylis ID = 272"
      ],
      "metadata": {
        "id": "hAh3lD0vVA4M"
      }
    },
    {
      "cell_type": "code",
      "source": [
        "BaylisJourneys = IQRFilteredJourneys.filter(col(\"StartStation Id\") == \"272\")\n",
        "BaylisJourneys.head()"
      ],
      "metadata": {
        "colab": {
          "base_uri": "https://localhost:8080/"
        },
        "id": "_Lr_rPtQVHP6",
        "outputId": "a2a4e518-8efd-4565-c5ee-97b5a8347dc2"
      },
      "execution_count": null,
      "outputs": [
        {
          "output_type": "execute_result",
          "data": {
            "text/plain": [
              "Row(Duration=660, Start Date='24/01/2014 18:04', StartStation Id=272, StartStation Name='Baylis Road, Waterloo', justDate='24/01/2014', StartMonth='01')"
            ]
          },
          "metadata": {},
          "execution_count": 36
        }
      ]
    },
    {
      "cell_type": "code",
      "source": [
        "Baylis01 = BaylisJourneys.filter(col(\"StartMonth\") == \"01\")\n",
        "Baylis02 = BaylisJourneys.filter(col(\"StartMonth\") == \"02\")\n",
        "Baylis03 = BaylisJourneys.filter(col(\"StartMonth\") == \"03\")\n",
        "Baylis04 = BaylisJourneys.filter(col(\"StartMonth\") == \"04\")\n",
        "Baylis05 = BaylisJourneys.filter(col(\"StartMonth\") == \"05\")\n",
        "Baylis06 = BaylisJourneys.filter(col(\"StartMonth\") == \"06\")\n",
        "Baylis07 = BaylisJourneys.filter(col(\"StartMonth\") == \"07\")\n",
        "Baylis08 = BaylisJourneys.filter(col(\"StartMonth\") == \"08\")\n",
        "Baylis09 = BaylisJourneys.filter(col(\"StartMonth\") == \"09\")\n",
        "Baylis10 = BaylisJourneys.filter(col(\"StartMonth\") == \"10\")\n",
        "Baylis11 = BaylisJourneys.filter(col(\"StartMonth\") == \"11\")\n",
        "Baylis12 = BaylisJourneys.filter(col(\"StartMonth\") == \"12\")"
      ],
      "metadata": {
        "id": "o5pQm-aDc_dI"
      },
      "execution_count": null,
      "outputs": []
    },
    {
      "cell_type": "code",
      "source": [
        "Baylis01.select(mean(\"Duration\")).collect()"
      ],
      "metadata": {
        "colab": {
          "base_uri": "https://localhost:8080/"
        },
        "id": "phjF0zn3dnvr",
        "outputId": "8a22a00a-6b2f-4af1-db7b-ac27ed809ddf"
      },
      "execution_count": null,
      "outputs": [
        {
          "output_type": "execute_result",
          "data": {
            "text/plain": [
              "[Row(avg(Duration)=695.9109311740891)]"
            ]
          },
          "metadata": {},
          "execution_count": 38
        }
      ]
    },
    {
      "cell_type": "code",
      "source": [
        "BaylisMeansByMonth = [Baylis01.select(mean(\"Duration\")).collect(), Baylis02.select(mean(\"Duration\")).collect(), Baylis03.select(mean(\"Duration\")).collect(), Baylis04.select(mean(\"Duration\")).collect(), Baylis05.select(mean(\"Duration\")).collect(),Baylis06.select(mean(\"Duration\")).collect(), Baylis07.select(mean(\"Duration\")).collect(), Baylis08.select(mean(\"Duration\")).collect(), Baylis09.select(mean(\"Duration\")).collect(), Baylis10.select(mean(\"Duration\")).collect(), Baylis11.select(mean(\"Duration\")).collect(), Baylis12.select(mean(\"Duration\")).collect()]\n",
        "print(BaylisMeansByMonth)"
      ],
      "metadata": {
        "colab": {
          "base_uri": "https://localhost:8080/"
        },
        "id": "S0ge1cJ0eLJS",
        "outputId": "0f999ae2-e695-4b80-cc7b-603c870353b8"
      },
      "execution_count": null,
      "outputs": [
        {
          "output_type": "stream",
          "name": "stdout",
          "text": [
            "[[Row(avg(Duration)=695.9109311740891)], [Row(avg(Duration)=726.2359550561798)], [Row(avg(Duration)=717.738219895288)], [Row(avg(Duration)=724.8768472906404)], [Row(avg(Duration)=751.2581063553827)], [Row(avg(Duration)=780.9468822170901)], [Row(avg(Duration)=810.2086230876217)], [Row(avg(Duration)=800.5854800936768)], [Row(avg(Duration)=755.2207792207793)], [Row(avg(Duration)=731.5464813205908)], [Row(avg(Duration)=676.3800904977376)], [Row(avg(Duration)=676.7122080211547)]]\n"
          ]
        }
      ]
    },
    {
      "cell_type": "code",
      "source": [
        "NumpyBaylis = np.array(BaylisMeansByMonth)\n",
        "NumpyBaylis"
      ],
      "metadata": {
        "colab": {
          "base_uri": "https://localhost:8080/"
        },
        "id": "lmQ71dLjiAKd",
        "outputId": "b05d3c0c-ba30-4282-815f-f173fb0b8617"
      },
      "execution_count": null,
      "outputs": [
        {
          "output_type": "execute_result",
          "data": {
            "text/plain": [
              "array([[[695.91093117]],\n",
              "\n",
              "       [[726.23595506]],\n",
              "\n",
              "       [[717.7382199 ]],\n",
              "\n",
              "       [[724.87684729]],\n",
              "\n",
              "       [[751.25810636]],\n",
              "\n",
              "       [[780.94688222]],\n",
              "\n",
              "       [[810.20862309]],\n",
              "\n",
              "       [[800.58548009]],\n",
              "\n",
              "       [[755.22077922]],\n",
              "\n",
              "       [[731.54648132]],\n",
              "\n",
              "       [[676.3800905 ]],\n",
              "\n",
              "       [[676.71220802]]])"
            ]
          },
          "metadata": {},
          "execution_count": 40
        }
      ]
    },
    {
      "cell_type": "code",
      "source": [
        "shapiro(NumpyBaylis)"
      ],
      "metadata": {
        "colab": {
          "base_uri": "https://localhost:8080/"
        },
        "id": "KcnOAPY2lFWb",
        "outputId": "016c0d80-6314-4357-87ff-6527fc0ebfba"
      },
      "execution_count": null,
      "outputs": [
        {
          "output_type": "execute_result",
          "data": {
            "text/plain": [
              "ShapiroResult(statistic=0.9492577314376831, pvalue=0.6261594891548157)"
            ]
          },
          "metadata": {},
          "execution_count": 41
        }
      ]
    },
    {
      "cell_type": "code",
      "source": [
        "OtherJourneys = IQRFilteredJourneys.filter(col(\"StartStation Id\") != \"272\")\n",
        "OtherJourneys.head()"
      ],
      "metadata": {
        "colab": {
          "base_uri": "https://localhost:8080/"
        },
        "id": "mSuFAhe6sYMX",
        "outputId": "89159e4e-45ea-4119-9758-629d54d32d1a"
      },
      "execution_count": null,
      "outputs": [
        {
          "output_type": "execute_result",
          "data": {
            "text/plain": [
              "Row(Duration=1140, Start Date='05/01/2014 15:35', StartStation Id=295, StartStation Name='Swan Street, The Borough', justDate='05/01/2014', StartMonth='01')"
            ]
          },
          "metadata": {},
          "execution_count": 42
        }
      ]
    },
    {
      "cell_type": "code",
      "source": [
        "OtherJourneys01 = OtherJourneys.filter(col(\"StartMonth\") == \"01\")\n",
        "OtherJourneys02 = OtherJourneys.filter(col(\"StartMonth\") == \"02\")\n",
        "OtherJourneys03 = OtherJourneys.filter(col(\"StartMonth\") == \"03\")\n",
        "OtherJourneys04 = OtherJourneys.filter(col(\"StartMonth\") == \"04\")\n",
        "OtherJourneys05 = OtherJourneys.filter(col(\"StartMonth\") == \"05\")\n",
        "OtherJourneys06 = OtherJourneys.filter(col(\"StartMonth\") == \"06\")\n",
        "OtherJourneys07 = OtherJourneys.filter(col(\"StartMonth\") == \"07\")\n",
        "OtherJourneys08 = OtherJourneys.filter(col(\"StartMonth\") == \"08\")\n",
        "OtherJourneys09 = OtherJourneys.filter(col(\"StartMonth\") == \"09\")\n",
        "OtherJourneys10 = OtherJourneys.filter(col(\"StartMonth\") == \"10\")\n",
        "OtherJourneys11 = OtherJourneys.filter(col(\"StartMonth\") == \"11\")\n",
        "OtherJourneys12 = OtherJourneys.filter(col(\"StartMonth\") == \"12\")"
      ],
      "metadata": {
        "id": "ncSFucfcs0Fe"
      },
      "execution_count": null,
      "outputs": []
    },
    {
      "cell_type": "code",
      "source": [
        "OtherJourneysMeansByMonth = [OtherJourneys01.select(mean(\"Duration\")).collect(), OtherJourneys02.select(mean(\"Duration\")).collect(), OtherJourneys03.select(mean(\"Duration\")).collect(), OtherJourneys04.select(mean(\"Duration\")).collect(), OtherJourneys05.select(mean(\"Duration\")).collect(),OtherJourneys06.select(mean(\"Duration\")).collect(), OtherJourneys07.select(mean(\"Duration\")).collect(), OtherJourneys08.select(mean(\"Duration\")).collect(), OtherJourneys09.select(mean(\"Duration\")).collect(), OtherJourneys10.select(mean(\"Duration\")).collect(), OtherJourneys11.select(mean(\"Duration\")).collect(), OtherJourneys12.select(mean(\"Duration\")).collect()]\n",
        "print(OtherJourneysMeansByMonth)"
      ],
      "metadata": {
        "colab": {
          "base_uri": "https://localhost:8080/"
        },
        "id": "ieMx689ItC7U",
        "outputId": "ddeed3e1-a08b-4855-8ac5-4c4ba8cfe034"
      },
      "execution_count": null,
      "outputs": [
        {
          "output_type": "stream",
          "name": "stdout",
          "text": [
            "[[Row(avg(Duration)=790.0826946227322)], [Row(avg(Duration)=825.1429095915557)], [Row(avg(Duration)=869.4681916895903)], [Row(avg(Duration)=898.3211920936575)], [Row(avg(Duration)=897.4850121793422)], [Row(avg(Duration)=913.9281845612192)], [Row(avg(Duration)=931.0050288833636)], [Row(avg(Duration)=940.390253888944)], [Row(avg(Duration)=894.0634489822046)], [Row(avg(Duration)=854.4200037912896)], [Row(avg(Duration)=822.9322931195138)], [Row(avg(Duration)=827.3133677539921)]]\n"
          ]
        }
      ]
    },
    {
      "cell_type": "code",
      "source": [
        "NumpyOtherJourneys = np.array(OtherJourneysMeansByMonth)\n",
        "NumpyOtherJourneys"
      ],
      "metadata": {
        "colab": {
          "base_uri": "https://localhost:8080/"
        },
        "id": "TtasUNaAtUKI",
        "outputId": "ae8bbe27-6bd0-42fc-aad4-14ce70731b18"
      },
      "execution_count": null,
      "outputs": [
        {
          "output_type": "execute_result",
          "data": {
            "text/plain": [
              "array([[[790.08269462]],\n",
              "\n",
              "       [[825.14290959]],\n",
              "\n",
              "       [[869.46819169]],\n",
              "\n",
              "       [[898.32119209]],\n",
              "\n",
              "       [[897.48501218]],\n",
              "\n",
              "       [[913.92818456]],\n",
              "\n",
              "       [[931.00502888]],\n",
              "\n",
              "       [[940.39025389]],\n",
              "\n",
              "       [[894.06344898]],\n",
              "\n",
              "       [[854.42000379]],\n",
              "\n",
              "       [[822.93229312]],\n",
              "\n",
              "       [[827.31336775]]])"
            ]
          },
          "metadata": {},
          "execution_count": 45
        }
      ]
    },
    {
      "cell_type": "code",
      "source": [
        "shapiro(NumpyOtherJourneys)"
      ],
      "metadata": {
        "colab": {
          "base_uri": "https://localhost:8080/"
        },
        "id": "53PiBhOhtZgq",
        "outputId": "683f5235-bd65-4371-9f38-01394970953f"
      },
      "execution_count": null,
      "outputs": [
        {
          "output_type": "execute_result",
          "data": {
            "text/plain": [
              "ShapiroResult(statistic=0.9476072192192078, pvalue=0.6023095846176147)"
            ]
          },
          "metadata": {},
          "execution_count": 46
        }
      ]
    },
    {
      "cell_type": "code",
      "source": [
        "ttest_ind(NumpyBaylis,NumpyOtherJourneys,alternative=\"less\")"
      ],
      "metadata": {
        "colab": {
          "base_uri": "https://localhost:8080/"
        },
        "id": "_iElNAwMwtVV",
        "outputId": "a26c192d-a02a-42a0-a45f-b78e5093ee4c"
      },
      "execution_count": null,
      "outputs": [
        {
          "output_type": "execute_result",
          "data": {
            "text/plain": [
              "TtestResult(statistic=array([[-7.14833527]]), pvalue=array([[1.81410918e-07]]), df=array([[22.]]))"
            ]
          },
          "metadata": {},
          "execution_count": 47
        }
      ]
    }
  ]
}